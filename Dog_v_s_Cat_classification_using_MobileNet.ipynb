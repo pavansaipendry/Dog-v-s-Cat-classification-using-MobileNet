{
  "cells": [
    {
      "cell_type": "code",
      "execution_count": null,
      "metadata": {
        "colab": {
          "base_uri": "https://localhost:8080/"
        },
        "id": "L_rkeHyWGOf3",
        "outputId": "35a97fff-9089-493b-d8e0-6879e0579a7a"
      },
      "outputs": [],
      "source": [
        "!pip install kaggle"
      ]
    },
    {
      "cell_type": "code",
      "execution_count": null,
      "metadata": {
        "id": "G4G--CZggdd2"
      },
      "outputs": [],
      "source": [
        "!mkdir -p ~/.kaggle\n",
        "!cp kaggle.json ~/.kaggle/\n",
        "!chmod 600 ~/.kaggle/kaggle.json"
      ]
    },
    {
      "cell_type": "code",
      "execution_count": null,
      "metadata": {
        "colab": {
          "base_uri": "https://localhost:8080/"
        },
        "id": "FN8-WQw-gjhu",
        "outputId": "92297086-a99c-458f-b907-31a681299cc0"
      },
      "outputs": [],
      "source": [
        "!kaggle competitions download -c dogs-vs-cats"
      ]
    },
    {
      "cell_type": "code",
      "execution_count": null,
      "metadata": {
        "colab": {
          "base_uri": "https://localhost:8080/"
        },
        "id": "p0gSpSLogx7d",
        "outputId": "5f2fd014-af46-4608-f051-b8d389e5e937"
      },
      "outputs": [],
      "source": [
        "!ls"
      ]
    },
    {
      "cell_type": "code",
      "execution_count": null,
      "metadata": {
        "colab": {
          "base_uri": "https://localhost:8080/"
        },
        "id": "Zi5Y8UE_hTb5",
        "outputId": "20d896f0-3505-4ca4-eb7a-d9382bd5c430"
      },
      "outputs": [],
      "source": [
        "from zipfile import ZipFile\n",
        "dataset = \"/Users/pavansaipendry/Desktop/Master's/Sem 1/Deep Learning/Dog v:s Cat classification using MobileNet/dogs-vs-cats.zip\"\n",
        "\n",
        "with ZipFile(dataset,'r') as zip:\n",
        "  zip.extractall()\n",
        "  print(\"The datset is extracted\")"
      ]
    },
    {
      "cell_type": "code",
      "execution_count": null,
      "metadata": {
        "colab": {
          "base_uri": "https://localhost:8080/"
        },
        "id": "1UeVe3tlhYNC",
        "outputId": "726dde6b-98cc-4ea1-892a-27b110d7d300"
      },
      "outputs": [],
      "source": [
        "!ls"
      ]
    },
    {
      "cell_type": "code",
      "execution_count": null,
      "metadata": {
        "colab": {
          "base_uri": "https://localhost:8080/"
        },
        "id": "dKKkAdSKhbyR",
        "outputId": "7d814bca-6078-4abf-fbc9-cfe4a2ded776"
      },
      "outputs": [],
      "source": [
        "from zipfile import ZipFile\n",
        "dataset = \"/Users/pavansaipendry/Desktop/Master's/Sem 1/Deep Learning/Dog v:s Cat classification using MobileNet/train.zip\"\n",
        "\n",
        "with ZipFile(dataset,'r') as zip:\n",
        "  zip.extractall()\n",
        "  print(\"The datset is extracted\")"
      ]
    },
    {
      "cell_type": "markdown",
      "metadata": {
        "id": "zDMJAFt6h9MM"
      },
      "source": [
        "Checking the number of rows in the train folder"
      ]
    },
    {
      "cell_type": "code",
      "execution_count": null,
      "metadata": {
        "colab": {
          "base_uri": "https://localhost:8080/"
        },
        "id": "cVgqgYJ1hzqL",
        "outputId": "fce5cdfd-e9a5-42fc-e23c-95c5ecee2f19"
      },
      "outputs": [],
      "source": [
        "import os\n",
        "\n",
        "path, dir, files = next(os.walk(\"/Users/pavansaipendry/Desktop/Master's/Sem 1/Deep Learning/Dog v:s Cat classification using MobileNet/train.zip\"))\n",
        "file_count = len(files)\n",
        "print(file_count)"
      ]
    },
    {
      "cell_type": "markdown",
      "metadata": {
        "id": "ZvULsfp6ibD7"
      },
      "source": [
        "Printing the Name of the images"
      ]
    },
    {
      "cell_type": "code",
      "execution_count": null,
      "metadata": {
        "colab": {
          "base_uri": "https://localhost:8080/"
        },
        "id": "lzMolNM7iL4q",
        "outputId": "ad922ef1-3d9b-47f7-ebee-a0b9c8cb3583"
      },
      "outputs": [],
      "source": [
        "file_names = os.listdir(\"/Users/pavansaipendry/Desktop/Master's/Sem 1/Deep Learning/Dog v:s Cat classification using MobileNet/train\")\n",
        "print(file_names)"
      ]
    },
    {
      "cell_type": "markdown",
      "metadata": {
        "id": "ZXi-Y_Lbiwlj"
      },
      "source": [
        "### Importing the Dependecies"
      ]
    },
    {
      "cell_type": "code",
      "execution_count": null,
      "metadata": {
        "id": "32t07I66ijbV"
      },
      "outputs": [],
      "source": [
        "import cv2\n",
        "import numpy as np\n",
        "import matplotlib.pyplot as plt\n",
        "import matplotlib.image as mpimg\n",
        "import pandas as pd\n",
        "from PIL import Image\n",
        "from sklearn.model_selection import train_test_split"
      ]
    },
    {
      "cell_type": "markdown",
      "metadata": {
        "id": "Iy_4WqcajQQG"
      },
      "source": [
        "#### Trying to displaying the Dag/Cat images."
      ]
    },
    {
      "cell_type": "markdown",
      "metadata": {
        "id": "VVNg2W_qjW-x"
      },
      "source": [
        "Displaying Dog images"
      ]
    },
    {
      "cell_type": "code",
      "execution_count": null,
      "metadata": {
        "colab": {
          "base_uri": "https://localhost:8080/",
          "height": 435
        },
        "id": "ZsN5p0-3jIil",
        "outputId": "dd7f26f4-d471-4d1e-885b-7f56a06eac78"
      },
      "outputs": [],
      "source": [
        "img = mpimg.imread(\"/Users/pavansaipendry/Desktop/Master's/Sem 1/Deep Learning/Dog v:s Cat classification using MobileNet/train/dog.3221.jpg\")  # Update the path accordingly\n",
        "plt.imshow(img)\n",
        "plt.show()"
      ]
    },
    {
      "cell_type": "code",
      "execution_count": null,
      "metadata": {
        "colab": {
          "base_uri": "https://localhost:8080/"
        },
        "id": "ygw2lsnqjc1V",
        "outputId": "2ecd9b24-3a07-4bbe-b003-3e577dbe6212"
      },
      "outputs": [],
      "source": [
        "img.shape"
      ]
    },
    {
      "cell_type": "markdown",
      "metadata": {
        "id": "_Qkfxh2AkOIe"
      },
      "source": [
        "Displaying Cat images"
      ]
    },
    {
      "cell_type": "code",
      "execution_count": null,
      "metadata": {
        "colab": {
          "base_uri": "https://localhost:8080/",
          "height": 435
        },
        "id": "RuRUQWEsje27",
        "outputId": "a0af0f5d-0d34-4bae-8e87-1a353788c244"
      },
      "outputs": [],
      "source": [
        "img_cat = mpimg.imread(\"/Users/pavansaipendry/Desktop/Master's/Sem 1/Deep Learning/Dog v:s Cat classification using MobileNet/train/cat.332.jpg\")\n",
        "plt.imshow(img)\n",
        "plt.show()"
      ]
    },
    {
      "cell_type": "code",
      "execution_count": null,
      "metadata": {
        "colab": {
          "base_uri": "https://localhost:8080/"
        },
        "id": "VuRJzvAokSx8",
        "outputId": "54da273b-4401-47b0-8d12-32ce950c3395"
      },
      "outputs": [],
      "source": [
        "img_cat.shape"
      ]
    },
    {
      "cell_type": "markdown",
      "metadata": {
        "id": "tggzDAWElYvX"
      },
      "source": [
        "As we can see, none of the pictures are of same size. To train a deep learning model it is really necessary to put all the images are of same dimenstion. If not, there will be errors in batch processing, the training might fail. If somehow, you convinced using dynamic resising internally, in that case, the learned features could become inconsistent"
      ]
    },
    {
      "cell_type": "markdown",
      "metadata": {
        "id": "a0e2gkY3mDWf"
      },
      "source": [
        "##### Resizing the Images"
      ]
    },
    {
      "cell_type": "code",
      "execution_count": null,
      "metadata": {
        "colab": {
          "base_uri": "https://localhost:8080/"
        },
        "id": "9hu-RS3hkW1D",
        "outputId": "f809235d-0cc5-44aa-91dc-f4a266e4e70e"
      },
      "outputs": [],
      "source": [
        "file_names = os.listdir(\"/Users/pavansaipendry/Desktop/Master's/Sem 1/Deep Learning/Dog v:s Cat classification using MobileNet/train\")\n",
        "\n",
        "dogs_count = 0\n",
        "cats_count = 0\n",
        "\n",
        "for img_file in file_names:\n",
        "  var_name = img_file[0:3]\n",
        "  if var_name == 'dog':\n",
        "    dogs_count +=1\n",
        "  else:\n",
        "    cats_count +=1\n",
        "\n",
        "print(\"Number of Dogs:\",dogs_count)\n",
        "print(\"Number of Cats:\",cats_count)\n"
      ]
    },
    {
      "cell_type": "markdown",
      "metadata": {
        "id": "D5Fw7ZjQn7EY"
      },
      "source": [
        "Insted of reshaping all the images, I'll take few of both the labels and put them in a diff folder with of same size."
      ]
    },
    {
      "cell_type": "code",
      "execution_count": null,
      "metadata": {
        "id": "Jv_dn7AvnVKe"
      },
      "outputs": [],
      "source": [
        "os.mkdir(\"/Users/pavansaipendry/Desktop/Master's/Sem 1/Deep Learning/Dog v:s Cat classification using MobileNet/resized_images\")\n"
      ]
    },
    {
      "cell_type": "code",
      "execution_count": null,
      "metadata": {
        "id": "KF1Au3TtoLbV"
      },
      "outputs": [],
      "source": [
        "originial_folder = \"/Users/pavansaipendry/Desktop/Master's/Sem 1/Deep Learning/Dog v:s Cat classification using MobileNet/train/\"\n",
        "resized_folder = \"/Users/pavansaipendry/Desktop/Master's/Sem 1/Deep Learning/Dog v:s Cat classification using MobileNet/resized_images/\"\n",
        "\n",
        "# taking 10000 images\n",
        "\n",
        "for x in range(12500):\n",
        "  file_name = os.listdir(originial_folder)[x] #takes 1st element\n",
        "  img_path = originial_folder + file_name #concats it's with the path\n",
        "\n",
        "  img = Image.open(img_path)\n",
        "  img = img.resize((224,224)) #224,224 is because, MobileNet expects to be in this size for transfer learning.\n",
        "  img = img.convert('RGB')\n",
        "\n",
        "  new_img_path = (resized_folder + file_name)\n",
        "  img.save(new_img_path)\n",
        "\n"
      ]
    },
    {
      "cell_type": "code",
      "execution_count": null,
      "metadata": {
        "colab": {
          "base_uri": "https://localhost:8080/",
          "height": 451
        },
        "id": "-wCEl4S7pywF",
        "outputId": "57d38b2a-d57c-4b39-eb2e-ad9de41ef7bf"
      },
      "outputs": [],
      "source": [
        "img = mpimg.imread(\"/Users/pavansaipendry/Desktop/Master's/Sem 1/Deep Learning/Dog v:s Cat classification using MobileNet/resized_images/cat.1.jpg\")\n",
        "imgplt = plt.imshow(img)\n",
        "plt.show()\n",
        "print(img.shape)"
      ]
    },
    {
      "cell_type": "code",
      "execution_count": null,
      "metadata": {
        "colab": {
          "base_uri": "https://localhost:8080/",
          "height": 451
        },
        "id": "3RSm5JTcq-7S",
        "outputId": "86564e48-46c5-44ef-9e1a-01dadd47b5d3"
      },
      "outputs": [],
      "source": [
        "img = mpimg.imread(\"/Users/pavansaipendry/Desktop/Master's/Sem 1/Deep Learning/Dog v:s Cat classification using MobileNet/resized_images/dog.264.jpg\")\n",
        "imgplt = plt.imshow(img)\n",
        "plt.show()\n",
        "print(img.shape)"
      ]
    },
    {
      "cell_type": "markdown",
      "metadata": {
        "id": "5ZBDIL-zrbSn"
      },
      "source": [
        "Now that all the images are of same size, we can now move on to **Creating labels**\n",
        "\n",
        "- Dog - 1\n",
        "- cat - 0"
      ]
    },
    {
      "cell_type": "code",
      "execution_count": null,
      "metadata": {
        "id": "z9APp_BLrGkq"
      },
      "outputs": [],
      "source": [
        "file_names = os.listdir(\"/Users/pavansaipendry/Desktop/Master's/Sem 1/Deep Learning/Dog v:s Cat classification using MobileNet/resized_images/\")\n",
        "labels = []\n",
        "\n",
        "for x in range(12500):\n",
        "\n",
        "  # Iterating through all the names,\n",
        "  # If the first 3 elements sums up to \"dog\", then it's gonna append 1 to the list 'labels',\n",
        "  # If its a 'cat', then 0 is appended to the list.\n",
        "\n",
        "  file_name = file_names[x]\n",
        "  var_name = file_name[0:3]\n",
        "\n",
        "  if var_name == 'dog':\n",
        "    labels.append(1)\n",
        "  else:\n",
        "    labels.append(0)\n",
        "\n"
      ]
    },
    {
      "cell_type": "code",
      "execution_count": null,
      "metadata": {
        "colab": {
          "base_uri": "https://localhost:8080/"
        },
        "id": "4RTjtM4ZtAYy",
        "outputId": "fc132c1f-0527-4ca5-f58f-4b96690644c8"
      },
      "outputs": [],
      "source": [
        "print(labels[0:10])\n",
        "print(len(labels))"
      ]
    },
    {
      "cell_type": "code",
      "execution_count": null,
      "metadata": {
        "colab": {
          "base_uri": "https://localhost:8080/"
        },
        "id": "Bfjw8tD6tDHm",
        "outputId": "b329130d-9b42-4997-ec53-a04d5445f4be"
      },
      "outputs": [],
      "source": [
        "# Let's check how many cats and dogs are there.\n",
        "\n",
        "print(labels.count(1))\n",
        "print(labels.count(0))"
      ]
    },
    {
      "cell_type": "markdown",
      "metadata": {
        "id": "UloY7Q8lt0Fd"
      },
      "source": [
        "Before training the model, we need to convert those images into numpy arrays."
      ]
    },
    {
      "cell_type": "code",
      "execution_count": null,
      "metadata": {
        "id": "6HI_ZSQAtiCv"
      },
      "outputs": [],
      "source": [
        "import cv2\n",
        "import glob"
      ]
    },
    {
      "cell_type": "code",
      "execution_count": null,
      "metadata": {
        "id": "6ayUavQfuCFQ"
      },
      "outputs": [],
      "source": [
        "image_dir = (\"/Users/pavansaipendry/Desktop/Master's/Sem 1/Deep Learning/Dog v:s Cat classification using MobileNet/resized_images/\")\n",
        "image_extension = ['png', 'jpg']\n",
        "\n",
        "files = []\n",
        "\n",
        "[files.extend(glob.glob(image_dir + \"*.\" + e)) for e in image_extension]\n",
        "\n",
        "dog_cat_images = np.asarray([cv2.imread(file) for file in files])\n"
      ]
    },
    {
      "cell_type": "code",
      "execution_count": null,
      "metadata": {
        "colab": {
          "base_uri": "https://localhost:8080/"
        },
        "id": "pGP6tit0u2gQ",
        "outputId": "54d74ece-77e3-4202-e1d6-57b12f265375"
      },
      "outputs": [],
      "source": [
        "dog_cat_images"
      ]
    },
    {
      "cell_type": "code",
      "execution_count": null,
      "metadata": {
        "colab": {
          "base_uri": "https://localhost:8080/"
        },
        "id": "3wbYqpV-vEBC",
        "outputId": "aadd153a-d11f-4a5b-89b2-710d8edd4074"
      },
      "outputs": [],
      "source": [
        "# type of images\n",
        "type(dog_cat_images)"
      ]
    },
    {
      "cell_type": "code",
      "execution_count": null,
      "metadata": {
        "colab": {
          "base_uri": "https://localhost:8080/"
        },
        "id": "pt3KxESrvSvP",
        "outputId": "2448574c-5465-41c9-eb4a-262e8f60ed5a"
      },
      "outputs": [],
      "source": [
        "# shape\n",
        "dog_cat_images.shape"
      ]
    },
    {
      "cell_type": "markdown",
      "metadata": {
        "id": "hfK8MLNgw1u7"
      },
      "source": [
        "### Train Test Split"
      ]
    },
    {
      "cell_type": "code",
      "execution_count": null,
      "metadata": {
        "id": "NgXbdukZw4Fl"
      },
      "outputs": [],
      "source": [
        "X = dog_cat_images\n",
        "y = np.asarray(labels)"
      ]
    },
    {
      "cell_type": "code",
      "execution_count": null,
      "metadata": {
        "id": "9Qa9Kx4qw_dy"
      },
      "outputs": [],
      "source": [
        "X_train, X_test, y_train, y_test = train_test_split(X, y, test_size=0.2, random_state=42)"
      ]
    },
    {
      "cell_type": "markdown",
      "metadata": {
        "id": "X3O4CEKqxTYi"
      },
      "source": [
        "Before train the NN, we have to scale the data."
      ]
    },
    {
      "cell_type": "code",
      "execution_count": null,
      "metadata": {
        "colab": {
          "base_uri": "https://localhost:8080/",
          "height": 159
        },
        "id": "H86vCG9AxDkJ",
        "outputId": "8fd8f14a-4fb7-44b2-91fe-c4ba7801d925"
      },
      "outputs": [],
      "source": [
        "X_train_scaled = X_train/255\n",
        "X_test_scaled = X_test/255"
      ]
    },
    {
      "cell_type": "code",
      "execution_count": null,
      "metadata": {
        "id": "HYIqO_2axlje"
      },
      "outputs": [],
      "source": [
        "print(X_train_scaled)"
      ]
    },
    {
      "attachments": {},
      "cell_type": "markdown",
      "metadata": {},
      "source": [
        "#### Building a Neural Network"
      ]
    },
    {
      "cell_type": "code",
      "execution_count": null,
      "metadata": {},
      "outputs": [],
      "source": [
        "import tensorflow as tf\n",
        "import tensorflow_hub as hub"
      ]
    },
    {
      "cell_type": "code",
      "execution_count": null,
      "metadata": {},
      "outputs": [],
      "source": [
        "# pip install tensorflow-hub"
      ]
    },
    {
      "cell_type": "code",
      "execution_count": null,
      "metadata": {},
      "outputs": [],
      "source": [
        "mobilenet_url = \"https://tfhub.dev/google/tf2-preview/mobilenet_v2/feature_vector/4\"\n",
        "\n",
        "pretrained_model  = hub.KerasLayer(mobilenet_url , input_shape = (224,224,3), trainable=False)"
      ]
    },
    {
      "cell_type": "code",
      "execution_count": null,
      "metadata": {},
      "outputs": [],
      "source": [
        "model = tf.keras.Sequential([\n",
        "    pretrained_model, \n",
        "    tf.keras.layers.Dense(2) #2 is number of classes\n",
        "])\n",
        "\n",
        "model.summary()"
      ]
    },
    {
      "cell_type": "code",
      "execution_count": null,
      "metadata": {},
      "outputs": [],
      "source": [
        "model.compile(\n",
        "    optimizer = 'adam',\n",
        "    loss = tf.keras.losses.SparseCategoricalCrossentropy(from_logits=True),\n",
        "    metrics = ['acc']\n",
        ")"
      ]
    },
    {
      "attachments": {},
      "cell_type": "markdown",
      "metadata": {},
      "source": [
        "Model training"
      ]
    },
    {
      "cell_type": "code",
      "execution_count": null,
      "metadata": {},
      "outputs": [],
      "source": [
        "model.fit(X_train_scaled, y_train, epochs= 5)"
      ]
    }
  ],
  "metadata": {
    "accelerator": "GPU",
    "colab": {
      "gpuType": "T4",
      "provenance": []
    },
    "kernelspec": {
      "display_name": "Python 3",
      "name": "python3"
    },
    "language_info": {
      "codemirror_mode": {
        "name": "ipython",
        "version": 3
      },
      "file_extension": ".py",
      "mimetype": "text/x-python",
      "name": "python",
      "nbconvert_exporter": "python",
      "pygments_lexer": "ipython3",
      "version": "3.8.10"
    }
  },
  "nbformat": 4,
  "nbformat_minor": 0
}
